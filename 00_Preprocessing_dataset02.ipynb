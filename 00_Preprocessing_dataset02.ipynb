{
 "cells": [
  {
   "cell_type": "code",
   "execution_count": 1,
   "id": "5e7f9a99-3a83-465a-a324-2167b34a8c68",
   "metadata": {},
   "outputs": [],
   "source": [
    "import mne\n",
    "import pandas as pd\n",
    "import matplotlib.pyplot as plt\n",
    "import numpy as np\n",
    "import os\n",
    "import scipy.signal\n",
    "import torch\n",
    "from tqdm import tqdm\n",
    "%matplotlib qt"
   ]
  },
  {
   "cell_type": "code",
   "execution_count": 2,
   "id": "6a358a09-7a79-4ea2-9aa4-13d199921099",
   "metadata": {},
   "outputs": [],
   "source": [
    "data_folder = './v3.0.1/edf/02_tcp_le/'\n",
    "csv_extension = '.csv'\n",
    "edf_extension = \".edf\""
   ]
  },
  {
   "cell_type": "code",
   "execution_count": 3,
   "id": "9746d108-a269-49d7-89f7-086ac9b985d4",
   "metadata": {},
   "outputs": [],
   "source": [
    "csv_file_names = [f for f in os.listdir(data_folder) if '.ipynb_checkpoints' not in f and f.endswith('.csv')]\n",
    "edf_file_names = [f for f in os.listdir(data_folder) if '.ipynb_checkpoints' not in f and f.endswith('.edf')]"
   ]
  },
  {
   "cell_type": "code",
   "execution_count": 4,
   "id": "7beae2b8-ee21-4b62-8a52-d3610669e0c2",
   "metadata": {},
   "outputs": [
    {
     "name": "stdout",
     "output_type": "stream",
     "text": [
      "All .csv files have corresponding .edf files and vice versa.\n"
     ]
    }
   ],
   "source": [
    "csv_base_names = {os.path.splitext(f)[0] for f in csv_file_names}\n",
    "edf_base_names = {os.path.splitext(f)[0] for f in edf_file_names}\n",
    "\n",
    "if csv_base_names == edf_base_names:\n",
    "    print(\"All .csv files have corresponding .edf files and vice versa.\")\n",
    "else:\n",
    "    print(\"There are mismatches between .csv and .edf files.\")\n",
    "    missing_in_csv = edf_base_names - csv_base_names\n",
    "    missing_in_edf = csv_base_names - edf_base_names\n",
    "    if missing_in_csv:\n",
    "        print(f\"Files missing in .csv: {missing_in_csv}\")\n",
    "    if missing_in_edf:\n",
    "        print(f\"Files missing in .edf: {missing_in_edf}\")"
   ]
  },
  {
   "cell_type": "code",
   "execution_count": 5,
   "id": "5c757dd6-f7aa-4460-a23c-87e84d570a6d",
   "metadata": {},
   "outputs": [],
   "source": [
    "def get_annotations_for_eeg_artifacts(path_root, file_name):\n",
    "    annotations_file = os.path.join(path_root, file_name)\n",
    "    df = pd.read_csv(annotations_file, skiprows=6)\n",
    "    df[\"channel_original\"] = df[\"channel\"]\n",
    "    df[\"channel_anode\"] = df[\"channel\"].apply(\n",
    "        lambda x: x.split('-')[0] if isinstance(x, str) and '-' in x else x\n",
    "    )\n",
    "    df[\"channel_cathode\"] = df[\"channel\"].apply(\n",
    "        lambda x: x.split('-')[1] if isinstance(x, str) and '-' in x else None\n",
    "    )\n",
    "    return df"
   ]
  },
  {
   "cell_type": "code",
   "execution_count": 6,
   "id": "ddd541e7-f91a-4386-93c0-a34bdb036203",
   "metadata": {},
   "outputs": [],
   "source": [
    "channel_mapping = {\n",
    "    'EEG FP1-LE': 'FP1', 'EEG FP2-LE': 'FP2',\n",
    "    'EEG F3-LE': 'F3', 'EEG F4-LE': 'F4',\n",
    "    'EEG C3-LE': 'C3', 'EEG C4-LE': 'C4',\n",
    "    'EEG P3-LE': 'P3', 'EEG P4-LE': 'P4',\n",
    "    'EEG O1-LE': 'O1', 'EEG O2-LE': 'O2',\n",
    "    'EEG F7-LE': 'F7', 'EEG F8-LE': 'F8',\n",
    "    'EEG T3-LE': 'T3', 'EEG T4-LE': 'T4',\n",
    "    'EEG T5-LE': 'T5', 'EEG T6-LE': 'T6',\n",
    "    'EEG FZ-LE': 'FZ', 'EEG CZ-LE': 'CZ',\n",
    "    'EEG PZ-LE': 'PZ'\n",
    "}"
   ]
  },
  {
   "cell_type": "code",
   "execution_count": null,
   "id": "4f45f6f0-5090-43b6-8eca-e7f0180d08f4",
   "metadata": {},
   "outputs": [],
   "source": [
    "features_path = './features'\n",
    "time_domain_features_path = os.path.join(features_path, 'time_domain')\n",
    "\n",
    "def extract_artifact_from_eeg(edf_path, df):\n",
    "    raw = mne.io.read_raw_edf(edf_path, preload=True, verbose='ERROR')\n",
    "    raw.filter(1., 50., fir_design='firwin')\n",
    "    channels_to_keep = [ch for ch in raw.ch_names if ch in channel_mapping]\n",
    "    raw.pick(channels_to_keep)\n",
    "    raw.rename_channels(channel_mapping)\n",
    "\n",
    "    for i, row in df.iterrows():\n",
    "        anode = row[\"channel_anode\"]\n",
    "        cathode = row[\"channel_cathode\"]\n",
    "\n",
    "        if anode not in raw.ch_names or cathode not in raw.ch_names:\n",
    "            continue\n",
    "\n",
    "        sfreq = raw.info[\"sfreq\"]\n",
    "        start_sample = int(row[\"start_time\"] * sfreq)\n",
    "        stop_sample = int(row[\"stop_time\"] * sfreq)\n",
    "\n",
    "        data_anode = raw.get_data(picks=anode, start=start_sample, stop=stop_sample)\n",
    "        data_cathode = raw.get_data(picks=cathode, start=start_sample, stop=stop_sample)\n",
    "\n",
    "        data_diff = data_anode - data_cathode\n",
    "\n",
    "        label_folder = row[\"label\"]\n",
    "        folder_path = os.path.join(time_domain_features_path, label_folder)\n",
    "        os.makedirs(folder_path, exist_ok=True)\n",
    "\n",
    "        filename = f\"{row['channel_original']}_{row['start_time']}_{row['stop_time']}.pt\"\n",
    "        filepath = os.path.join(folder_path, filename)\n",
    "\n",
    "        torch.save(data_diff.flatten(), filepath)"
   ]
  },
  {
   "cell_type": "code",
   "execution_count": 8,
   "id": "79590679-099e-42c6-86cb-0224fd1a05c1",
   "metadata": {
    "scrolled": true
   },
   "outputs": [
    {
     "name": "stderr",
     "output_type": "stream",
     "text": [
      "Processing EEG files: 100%|████████████████████████████████████████████████████████████| 13/13 [00:14<00:00,  1.11s/it]\n"
     ]
    }
   ],
   "source": [
    "for file in tqdm(csv_file_names, desc=\"Processing EEG files\"):\n",
    "    eeg_file = file.split('.')\n",
    "    df = get_annotations_for_eeg_artifacts(data_folder, eeg_file[0] + '.csv')\n",
    "    extract_artifact_from_eeg(os.path.join(data_folder, eeg_file[0] + '.edf'), df)"
   ]
  },
  {
   "cell_type": "code",
   "execution_count": null,
   "id": "4c794632-2dbc-411c-8cb3-6e7cb1fea43f",
   "metadata": {},
   "outputs": [],
   "source": []
  }
 ],
 "metadata": {
  "kernelspec": {
   "display_name": "Python 3 (ipykernel)",
   "language": "python",
   "name": "python3"
  },
  "language_info": {
   "codemirror_mode": {
    "name": "ipython",
    "version": 3
   },
   "file_extension": ".py",
   "mimetype": "text/x-python",
   "name": "python",
   "nbconvert_exporter": "python",
   "pygments_lexer": "ipython3",
   "version": "3.13.2"
  }
 },
 "nbformat": 4,
 "nbformat_minor": 5
}
